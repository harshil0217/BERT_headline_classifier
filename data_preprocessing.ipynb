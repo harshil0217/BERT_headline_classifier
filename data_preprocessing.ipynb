{
 "cells": [
  {
   "cell_type": "code",
   "execution_count": 26,
   "metadata": {},
   "outputs": [],
   "source": [
    "import pandas as pd"
   ]
  },
  {
   "cell_type": "code",
   "execution_count": 27,
   "metadata": {},
   "outputs": [],
   "source": [
    "#import data\n",
    "headlines_annotated = pd.read_csv(\"./data/headlines_annotated.tsv\", sep=\"\\t\")"
   ]
  },
  {
   "cell_type": "code",
   "execution_count": 28,
   "metadata": {},
   "outputs": [],
   "source": [
    "#select only relevant columns\n",
    "headlines_annotated = headlines_annotated[['headline', 'dominant_emotion']]"
   ]
  },
  {
   "cell_type": "code",
   "execution_count": 29,
   "metadata": {},
   "outputs": [
    {
     "data": {
      "text/html": [
       "<div>\n",
       "<style scoped>\n",
       "    .dataframe tbody tr th:only-of-type {\n",
       "        vertical-align: middle;\n",
       "    }\n",
       "\n",
       "    .dataframe tbody tr th {\n",
       "        vertical-align: top;\n",
       "    }\n",
       "\n",
       "    .dataframe thead th {\n",
       "        text-align: right;\n",
       "    }\n",
       "</style>\n",
       "<table border=\"1\" class=\"dataframe\">\n",
       "  <thead>\n",
       "    <tr style=\"text-align: right;\">\n",
       "      <th></th>\n",
       "      <th>headline</th>\n",
       "      <th>dominant_emotion</th>\n",
       "    </tr>\n",
       "  </thead>\n",
       "  <tbody>\n",
       "    <tr>\n",
       "      <th>0</th>\n",
       "      <td>Cops in One Village Have Been Convicted of 70 ...</td>\n",
       "      <td>anger</td>\n",
       "    </tr>\n",
       "    <tr>\n",
       "      <th>1</th>\n",
       "      <td>DIY penis enlargements are a 'nationwide probl...</td>\n",
       "      <td>negative_surprise</td>\n",
       "    </tr>\n",
       "    <tr>\n",
       "      <th>2</th>\n",
       "      <td>Dam breaking: New Epstein accuser comes forward</td>\n",
       "      <td>anger</td>\n",
       "    </tr>\n",
       "    <tr>\n",
       "      <th>3</th>\n",
       "      <td>David Beckham gets six-month driving ban for u...</td>\n",
       "      <td>negative_surprise</td>\n",
       "    </tr>\n",
       "    <tr>\n",
       "      <th>4</th>\n",
       "      <td>Dead sea turtle found with spear through head ...</td>\n",
       "      <td>sadness</td>\n",
       "    </tr>\n",
       "    <tr>\n",
       "      <th>...</th>\n",
       "      <td>...</td>\n",
       "      <td>...</td>\n",
       "    </tr>\n",
       "    <tr>\n",
       "      <th>4995</th>\n",
       "      <td>‘NOW do abortion. We’ll wait.’ Ilhan Omar doub...</td>\n",
       "      <td>negative_surprise</td>\n",
       "    </tr>\n",
       "    <tr>\n",
       "      <th>4996</th>\n",
       "      <td>‘Triad’ Thugs Use Clubs to Punish Hong Kong’s ...</td>\n",
       "      <td>negative_surprise</td>\n",
       "    </tr>\n",
       "    <tr>\n",
       "      <th>4997</th>\n",
       "      <td>'For real': High school football season begins...</td>\n",
       "      <td>positive_anticipation_including_optimism</td>\n",
       "    </tr>\n",
       "    <tr>\n",
       "      <th>4998</th>\n",
       "      <td>100 years on: the picture that changed our vie...</td>\n",
       "      <td>positive_surprise</td>\n",
       "    </tr>\n",
       "    <tr>\n",
       "      <th>4999</th>\n",
       "      <td>Couple infuriate officials by landing their he...</td>\n",
       "      <td>anger</td>\n",
       "    </tr>\n",
       "  </tbody>\n",
       "</table>\n",
       "<p>5000 rows × 2 columns</p>\n",
       "</div>"
      ],
      "text/plain": [
       "                                               headline  \\\n",
       "0     Cops in One Village Have Been Convicted of 70 ...   \n",
       "1     DIY penis enlargements are a 'nationwide probl...   \n",
       "2       Dam breaking: New Epstein accuser comes forward   \n",
       "3     David Beckham gets six-month driving ban for u...   \n",
       "4     Dead sea turtle found with spear through head ...   \n",
       "...                                                 ...   \n",
       "4995  ‘NOW do abortion. We’ll wait.’ Ilhan Omar doub...   \n",
       "4996  ‘Triad’ Thugs Use Clubs to Punish Hong Kong’s ...   \n",
       "4997  'For real': High school football season begins...   \n",
       "4998  100 years on: the picture that changed our vie...   \n",
       "4999  Couple infuriate officials by landing their he...   \n",
       "\n",
       "                              dominant_emotion  \n",
       "0                                        anger  \n",
       "1                            negative_surprise  \n",
       "2                                        anger  \n",
       "3                            negative_surprise  \n",
       "4                                      sadness  \n",
       "...                                        ...  \n",
       "4995                         negative_surprise  \n",
       "4996                         negative_surprise  \n",
       "4997  positive_anticipation_including_optimism  \n",
       "4998                         positive_surprise  \n",
       "4999                                     anger  \n",
       "\n",
       "[5000 rows x 2 columns]"
      ]
     },
     "execution_count": 29,
     "metadata": {},
     "output_type": "execute_result"
    }
   ],
   "source": [
    "headlines_annotated"
   ]
  },
  {
   "cell_type": "code",
   "execution_count": 30,
   "metadata": {},
   "outputs": [
    {
     "data": {
      "text/plain": [
       "dominant_emotion\n",
       "negative_surprise                            893\n",
       "positive_surprise                            582\n",
       "anger                                        460\n",
       "annoyance                                    426\n",
       "fear                                         419\n",
       "sadness                                      386\n",
       "disgust                                      382\n",
       "negative_anticipation_including_pessimism    323\n",
       "positive_anticipation_including_optimism     319\n",
       "joy                                          264\n",
       "guilt                                        175\n",
       "trust                                        124\n",
       "shame                                        119\n",
       "pride                                         65\n",
       "love_including_like                           63\n",
       "Name: count, dtype: int64"
      ]
     },
     "execution_count": 30,
     "metadata": {},
     "output_type": "execute_result"
    }
   ],
   "source": [
    "headlines_annotated[\"dominant_emotion\"].value_counts()"
   ]
  },
  {
   "cell_type": "code",
   "execution_count": 31,
   "metadata": {},
   "outputs": [
    {
     "data": {
      "text/plain": [
       "dominant_emotion\n",
       "pessimism    3583\n",
       "optimism     1417\n",
       "Name: count, dtype: int64"
      ]
     },
     "execution_count": 31,
     "metadata": {},
     "output_type": "execute_result"
    }
   ],
   "source": [
    "#replace emotions with optimism and pessimism\n",
    "\n",
    "replace_with_optimisim = [\"positive_surprise\", \"positive_anticipation_including_optimism\", \"joy\", \n",
    "                          \"trust\", \"pride\", \"love_including_like\"]\n",
    "\n",
    "replace_with_pessimism = [\"negative_surprise\", \"negative_anticipation_including_pessimism\", \"fear\",\n",
    "                          \"anger\", \"annoyance\", \"sadness\", \"disgust\", \"guilt\", \"shame\"]\n",
    "\n",
    "optimism_dict = {k: \"optimism\" for k in replace_with_optimisim}\n",
    "\n",
    "pessimism_dict = {k: \"pessimism\" for k in replace_with_pessimism}\n",
    "\n",
    "headlines_annotated[\"dominant_emotion\"] = headlines_annotated[\"dominant_emotion\"].replace(optimism_dict)\n",
    "headlines_annotated[\"dominant_emotion\"] = headlines_annotated[\"dominant_emotion\"].replace(pessimism_dict)\n",
    "\n",
    "headlines_annotated[\"dominant_emotion\"].value_counts()"
   ]
  },
  {
   "cell_type": "code",
   "execution_count": 32,
   "metadata": {},
   "outputs": [
    {
     "name": "stderr",
     "output_type": "stream",
     "text": [
      "/tmp/ipykernel_4243/3397849361.py:2: FutureWarning: Downcasting behavior in `replace` is deprecated and will be removed in a future version. To retain the old behavior, explicitly call `result.infer_objects(copy=False)`. To opt-in to the future behavior, set `pd.set_option('future.no_silent_downcasting', True)`\n",
      "  headlines_annotated[\"dominant_emotion\"] = headlines_annotated[\"dominant_emotion\"].replace({\"optimism\": 1, \"pessimism\": 0})\n"
     ]
    }
   ],
   "source": [
    "#convert to binary classification\n",
    "headlines_annotated[\"dominant_emotion\"] = headlines_annotated[\"dominant_emotion\"].replace({\"optimism\": 1, \"pessimism\": 0})"
   ]
  },
  {
   "cell_type": "code",
   "execution_count": 33,
   "metadata": {},
   "outputs": [
    {
     "data": {
      "text/html": [
       "<div>\n",
       "<style scoped>\n",
       "    .dataframe tbody tr th:only-of-type {\n",
       "        vertical-align: middle;\n",
       "    }\n",
       "\n",
       "    .dataframe tbody tr th {\n",
       "        vertical-align: top;\n",
       "    }\n",
       "\n",
       "    .dataframe thead th {\n",
       "        text-align: right;\n",
       "    }\n",
       "</style>\n",
       "<table border=\"1\" class=\"dataframe\">\n",
       "  <thead>\n",
       "    <tr style=\"text-align: right;\">\n",
       "      <th></th>\n",
       "      <th>headline</th>\n",
       "      <th>dominant_emotion</th>\n",
       "    </tr>\n",
       "  </thead>\n",
       "  <tbody>\n",
       "    <tr>\n",
       "      <th>0</th>\n",
       "      <td>Cops in One Village Have Been Convicted of 70 ...</td>\n",
       "      <td>0</td>\n",
       "    </tr>\n",
       "    <tr>\n",
       "      <th>1</th>\n",
       "      <td>DIY penis enlargements are a 'nationwide probl...</td>\n",
       "      <td>0</td>\n",
       "    </tr>\n",
       "    <tr>\n",
       "      <th>2</th>\n",
       "      <td>Dam breaking: New Epstein accuser comes forward</td>\n",
       "      <td>0</td>\n",
       "    </tr>\n",
       "    <tr>\n",
       "      <th>3</th>\n",
       "      <td>David Beckham gets six-month driving ban for u...</td>\n",
       "      <td>0</td>\n",
       "    </tr>\n",
       "    <tr>\n",
       "      <th>4</th>\n",
       "      <td>Dead sea turtle found with spear through head ...</td>\n",
       "      <td>0</td>\n",
       "    </tr>\n",
       "    <tr>\n",
       "      <th>...</th>\n",
       "      <td>...</td>\n",
       "      <td>...</td>\n",
       "    </tr>\n",
       "    <tr>\n",
       "      <th>4995</th>\n",
       "      <td>‘NOW do abortion. We’ll wait.’ Ilhan Omar doub...</td>\n",
       "      <td>0</td>\n",
       "    </tr>\n",
       "    <tr>\n",
       "      <th>4996</th>\n",
       "      <td>‘Triad’ Thugs Use Clubs to Punish Hong Kong’s ...</td>\n",
       "      <td>0</td>\n",
       "    </tr>\n",
       "    <tr>\n",
       "      <th>4997</th>\n",
       "      <td>'For real': High school football season begins...</td>\n",
       "      <td>1</td>\n",
       "    </tr>\n",
       "    <tr>\n",
       "      <th>4998</th>\n",
       "      <td>100 years on: the picture that changed our vie...</td>\n",
       "      <td>1</td>\n",
       "    </tr>\n",
       "    <tr>\n",
       "      <th>4999</th>\n",
       "      <td>Couple infuriate officials by landing their he...</td>\n",
       "      <td>0</td>\n",
       "    </tr>\n",
       "  </tbody>\n",
       "</table>\n",
       "<p>5000 rows × 2 columns</p>\n",
       "</div>"
      ],
      "text/plain": [
       "                                               headline  dominant_emotion\n",
       "0     Cops in One Village Have Been Convicted of 70 ...                 0\n",
       "1     DIY penis enlargements are a 'nationwide probl...                 0\n",
       "2       Dam breaking: New Epstein accuser comes forward                 0\n",
       "3     David Beckham gets six-month driving ban for u...                 0\n",
       "4     Dead sea turtle found with spear through head ...                 0\n",
       "...                                                 ...               ...\n",
       "4995  ‘NOW do abortion. We’ll wait.’ Ilhan Omar doub...                 0\n",
       "4996  ‘Triad’ Thugs Use Clubs to Punish Hong Kong’s ...                 0\n",
       "4997  'For real': High school football season begins...                 1\n",
       "4998  100 years on: the picture that changed our vie...                 1\n",
       "4999  Couple infuriate officials by landing their he...                 0\n",
       "\n",
       "[5000 rows x 2 columns]"
      ]
     },
     "execution_count": 33,
     "metadata": {},
     "output_type": "execute_result"
    }
   ],
   "source": [
    "headlines_annotated "
   ]
  },
  {
   "cell_type": "code",
   "execution_count": null,
   "metadata": {},
   "outputs": [],
   "source": []
  }
 ],
 "metadata": {
  "kernelspec": {
   "display_name": ".venv",
   "language": "python",
   "name": "python3"
  },
  "language_info": {
   "codemirror_mode": {
    "name": "ipython",
    "version": 3
   },
   "file_extension": ".py",
   "mimetype": "text/x-python",
   "name": "python",
   "nbconvert_exporter": "python",
   "pygments_lexer": "ipython3",
   "version": "3.10.12"
  }
 },
 "nbformat": 4,
 "nbformat_minor": 2
}
